{
 "cells": [
  {
   "cell_type": "markdown",
   "id": "416b811d-e9d6-4d94-9863-1836b0b2d302",
   "metadata": {},
   "source": [
    "Detyra:\n",
    "\n",
    "Te mblidhen 20-30 komente per nje restorant/hotel ne Kosove dhe te pregaditet nje analize e sentimentit ne 3 kategori (pozitiv, neutral, negativ). \n",
    "Te ipet mundesia e testimit me koment te ri. Pershkruani zgjidhjen dhe dorezoni kodin si rezultat."
   ]
  },
  {
   "cell_type": "code",
   "execution_count": 1,
   "id": "13fdaed6-2cfa-4202-8bbd-b8c57725942f",
   "metadata": {},
   "outputs": [],
   "source": [
    "#Importimi i librarive\n",
    "\n",
    "import pandas as pd\n",
    "import numpy as np\n",
    "import matplotlib.pyplot as plt\n",
    "import seaborn as sns\n",
    "import nltk\n",
    "import spacy\n",
    "from sklearn.model_selection import train_test_split, GridSearchCV\n",
    "from sklearn.feature_extraction.text import TfidfVectorizer\n",
    "from sklearn.metrics import classification_report, confusion_matrix\n",
    "from sentence_transformers import SentenceTransformer\n",
    "from sklearn.pipeline import Pipeline\n",
    "from sklearn.linear_model import LogisticRegression"
   ]
  },
  {
   "cell_type": "markdown",
   "id": "b42a27e4-8694-4199-a5e3-fbb8a1503f7f",
   "metadata": {},
   "source": [
    "Ne vazhdim kam krijuar nje dataset manualisht duke marrur reviews dhe sentimentet e tyre nga TripAdvisor per hotelin Swiss Diamond Hotel ne Prishtine.\n",
    "\n",
    "Gjithsej kam marrur 30 reviews, prej te cilave 10 jane negative, 10 jane neutrale, dhe 10 jane pozitive. Arsyeja e ndarjes se tille eshte qe te krijohet nje dataset i balancuar, dhe modeli qe perdoret me vone te mos jete i anshem. Ne TripAdvisor sistemi i vleresimit eshte ne shkallen 1 deri ne 5 yje. \n",
    "\n",
    "Per komentet negative kam marrur 5 komente me vleresim 1 yll, 5 komente me vleresim 2 yje. Per komente neutrale kam marrur 10 komente me 3 yje. Derisa per komente pozitive 5 komente me vleresim 4 yje dhe 5 komente me vleresim 5 yje. Arsyeja e kesaj eshte qe komentet pozitive dhe negative te mos jene shume pozitive ose shume negative dhe te krijoje mundesi per modelin te gjeneralizoje. \n",
    "\n",
    "Komentet jane te vendosura ne dataset ne kolonen reviews, derisa sentimentet ne kolonen sentiment"
   ]
  },
  {
   "cell_type": "code",
   "execution_count": 2,
   "id": "a2343b94",
   "metadata": {},
   "outputs": [],
   "source": [
    "data = {\n",
    "    'reviews':[\n",
    "        \"Staying at Swiss Diamond Hotel was amazing. Everybody was so nice and helpful, the food was splendid and the swimming pool was so relaxing. I ordered dinner by room service and was served a perfectly cooked salmon in my room. Perfect after a long days work.\",\n",
    "        \"Very nice place in the center of Pristina, it was a nice time. Very friendly staff just right everything you have the feeling like in a luxury country like Dubai so also the reception of staff, we are very satisfied. I can only recommend\",\n",
    "        \"Swiss Diamond is located in the heart of Pristine, hotel is somehow small with a nice hotel, a lobby bar and a spa.This hotel has excellent front desk and concierge team, always smiling and ready to help.Rooms are spacious but bathrooms are even larger than bed rooms which is simply amazing!\",\n",
    "        \"Better than expected. Nice and comfortable rooms, excellent breakfast and spa, friendly staff. Quiet and peaceful, I did not hear any traffic. Pays off to stay there, services exceed price. Real five stars, indeed. Location is perfect, the walking zone of Priština.\",\n",
    "        \"What a beautiful and superb 5 star hotel in central Pristina! Luxury restaurant, delicious breakfast, amazing spa and heated pool guaranteed excellent stay for two days. The room was silent and personnel was very friendly. There were several  good cafes and restaurants nearby.\",\n",
    "        \"The hotel has a good location near shops and restaurants.The room was large and there  was very neat and clean everywhere.Overall, the room was very nicely maintained The staff was  polite and helpful.\",\n",
    "        \"It was totally worth it. I went on a trip around Prishtina, and this was the place the struck most. I went there with my wife, and we enjoyed it very much. They were very kind, and we felt like we were at home.\",\n",
    "        \"One night in a standard business room. Excellent location, right smack down town. Room extremely clean. Strange decor. Staff professional .Breakfast pretty bad.Pristina is a great city, check it out.\",\n",
    "        \"A Hotel that I recommend for its attentive staff, comfortable rooms & great Health spa centre complex.The gym is good & could do with a few more dumb bells,the pool & sauna areas are superb.A choice of several saunas is available.Location is good.Breakfast very good.In room checker missed a couple of items(minor issue)& quickly fixed.\",\n",
    "        \"Stayed one night in this hotel and appreciated the place. Centrally located, kind staff, comfortable room and great breakfast terrace with nice view on the pedestrian area. Long story short: I would go here again. By the way: although compact Pristina is a fun and vibrant city! \",\n",
    "        \"The pros: the hotel is central, the Deluxe room was spacious and the bed was comfortable, the breakfast was nice, the valet and bellhop service was professional and friendly. The cons: they charge 70 Euro PER ANIMAL for a pet room, which wasn't clear when I called and spoke to the front desk before booking our stay. When we arrived, they informed me that it would be 140 Euro for the two dogs, which was more than double the cost of the room. I was also told that booking the room though their website was cheaper than booking by calling the hotel. I booked a room online for two adults and a toddler, which included an extra bed. Upon arrival, we had a baby crib that was too small for a child.\",\n",
    "        \"Conveniently located in the pedestrian zone, the hotel looks lush and posh. Breakfast is really good and the shower was the biggest I have seen in my life. However, there were also some drawbacks which do really affect my review: - only 1 towel provided in the double room although we were 2 people in the room- staff in the bar does not speak English at all- extras such as water bottle in the room are ridiculously expensive. If you want to be a 5 star hotel, issues like that make a very bad impression. It's probably one of the best hotels in Pristina, but I am not sure I'd come back taking into account the high price you pay for the room!\",\n",
    "        \"Great location in the centre of town. Good staff, and a decent spread for breakfast. The decor in the room was a little over the top, and we had to call reception to fix the LED lights as none of the switches worked. Would recommend for a stay but maybe better suited as a business hotel. I wouldn't call it 5*, maybe 4* is more suitable for the amenities.\",\n",
    "        \"We stayed this week in what could be a very nice old world European hotel, however sadly the Swiss Diamond is missing customer engagement and lack that import human touch. Rooms were small, clean but ok. Food and beverage generally good, albeit a little old fashioned. Staff were cold, never smiling and impersonal. Management, from the top, seemed disengaged and more eager to be enjoying their breakfast than checking I guest satisfaction. Hotel transfer in departure was late, leaving a bad final impression. Sadly it all could have been so much better and a real experience if the management and staff would have just tried.\",\n",
    "        \"5 star hotel, but still left to be desired. My room was spacious and clean overall. I had some problems with A/C and also when you are under shower, a lot of water is collected on the floor (a problem with sewer?). I wood not say food in the restaurant is up to the 5 star hotel status. All the staff was friendly and very helpful. Used shuttle service from/to airport and it was OK, even if we were bit late to depart from the hotel in the morning. Anyway I will book again if I visit Pristina again. This looks to be the best hotel in the city.\",\n",
    "        \"This hotel is fine. I had booked a room with a US government rate, which apparently is not enough to get a room with a bathtub, a room away from the elevators, or a room on a higher floor. No real complaints about the hotel--it is very nice, service is nice, rooms are clean, breakfast is great. It's just that the rate they accept for those traveling on US government business gets you a sub-par room. I asked several times over the course of 2 weeks to change to a room where I could sleep better, but they couldn't accommodate due to the low rate of 90 euros. I'll stay somewhere else next time and get a better night's sleep!\",\n",
    "        \"Stayed here in December and had a very pleasant stay. The staff was excellent, service was good and the breakfast was super. The room was spacious and clean.  Being a 5 star hotel, I was surprised they didn't offer any kettle and free coffee/tea  in the room. I had to call room service for a kettle. Also the shower in the bathroom smelled of fungus.  The bath room was quite chilly, thanks to the cold marble floor with no heating in it. Otherwise a nice hotel, 5 star of course - compared to other hotels nearby. Of course the Turkish bath was out of service - but have it ever worked at all???? I think none of my friends who have been to this spa has ever seen the turkish bath being in use.\",\n",
    "        \"Good place for western 'luxury'. Stayed a few nights here. It offers everything you would expect from a westernised, corporate, business hotel. The service was particularly good and the location is excellent. If I go to Prishtina again, I will stay here.\",\n",
    "        \"A hotel not living up to their 5 Star rating. Breakfast buffet has been cold each and everyday, coffee runs out daily and they don't seem to pay much attention to restocking the food that quickly runs out. Room service is terrible and they don't clean the rooms very well, I came back to a dirt covered floor with large pieces of lint all over the carpet so bad I had to pick it up with my fingers because it looked gross and unclean. The bed is as hard as a sheet of plywood, I don't know if my back can take much more! When I asked for a foam pad to make it more sleepable they said it wasn't possible, so much for being a 5 star rated Hotel! If this is the best Kosovo has to offer, then I can only imagine what the rest are like. The Spa looked nice but a lot of the thinks like the whirlpool were broken. I do not recommend this Hotel for the money they are charging. It's more like a entry level 4 Star hotel than a 5.\",\n",
    "        \"A hotel living on reputation but not keeping up with it. I think that if you only occassionally go on holiday this place is a good stay but for people like us who spend a great deal of time in hotels for work this is becoming an unacceptable alternative. With more nice hotels in the city I think we'll be trying them out.\",\n",
    "        \"Sin. what was once an excellent address now turns out to be a pretentious hotel but one that offers very little. Rooms not clean, taps in the bathroom ruined, food absolutely not up to a '5' (?) star rating. Even the breakfast, once truly excellent, is now starting to decline in quality. Better to stay a little outside the city but with much better hotels\",\n",
    "        \"This hotel is located in the heart of Pristina, but it was not easy to find by taxi driver if he is not local. Many staff are not well trained.   Room Keycard didn't work.  Had to change my room back and forth.   Room is not well maintained with issues here and there.  Wifi is slow, and couldn't surf well.  I needed a taxi to Skopje and the doorman got me an illegal  / unlicensed taxi by saying 'he is my friend and a good driver'.  I thought it was a legal and licensed taxi, but,  after all, it was an awful scheme. Overall, this is not a five star hotel. Very disappointed.\",\n",
    "        \"The location gets AAA. Service below standard. Coffee was decent. In summer its a half decent  spot  to chill out... Morning breakfast is better. But overall vibe is boring. It's like dated. A bad designers 1980s kinda feel. \",\n",
    "        \"Overpriced and not great food. I went one day for a business meeting with my friends, the food was served a bit cold, also the chief could not make my meal as I ordered, I did not sleep in the hotel but I will not go there because of the prices mostly.\",\n",
    "        \"Awful service, upon checking in immediately one of the party was rebooked into another room as they had made a mistake, apparently he was put in a 'better' room, having stayed here before that was a lie. The rooms however were clean and tidy. Upon arriving for breakfast the food and service was awful. I was seated then moved the selection was poor so I settled for soft boiled eggs, these were rock hard and the bread selection was stale, I wasn't offered any drinks and waiting staff ignored me when I tried to get their attention. This was my second time staying at the Swiss diamond and now the last\",\n",
    "        \"No sound proofing to the windows can hear everything out side. Booking was made online but hotel had no track of it…… twice.Air con didn’t workLights in room wouldn’t turn off. Room are nice but very loud! Staff pretty nice but not very accommodating. \",\n",
    "        \"This hotel is a disgrace.  For the 5 star rating - it’s absolutely not up to standard.  One look at how menu is described and you will be convinced.  The price we pay here would surely assure a more accurate description of dishes and more accurate translations.  Ordered a chicken dish- cauliflowers well done but found plenty of ham which was never even mentioned.  Way to go!!! 10 stars for cultural sensitivity.  Grapes have no taste..  also - when rules hurt a costumer don’t you think they should be ment? My eyes are watering - literally- yet rules are no lights can be shifted.  And no other accommodations offered... please,  it would much 5 starish if your staff can speak proper English... referring to someone as mam- highly obsolete- just very disappointing dinner.  I can’t really speak as to other areas of hotel.\",\n",
    "        \"Terrible!!! We came to Swiss Diamond for a Sunday Brunch. The billboard outside the hotel featured a beautiful photo of delicious pancakes and eggs so we were hooked. However , the open buffet offered nothing related to breakfast but only average/poor food. When we asked for scrambled eggs and pancakes we were told it would be an extra and that we needed to pay more. They didn't even ask if we wanted to drink tea/coffee. The 'Sunday Brunch' ad was hugely MISLEADING. It was a very disappointing Bayram Brunch. Never again! I Can't believe this is a 5 star hotel.\",\n",
    "        \"It does not worth money and nerves. The hotel is overated, prices are higher than in Europe, staff are the worst that I have ever seen in any Hotel in Europe, you have to ask 10 times to get something, they are rude. I don't know who is boss of the hotel but I would change all of them. Food is good but very expensive 56 euros two persons eating is very high when you see that you don't eat something special.\",\n",
    "        \"Forget it! For a hotel that bills ltself as 5 stars, it ought to be ashamed. I asked for a dry (DRY) gin martini and asked for the kind of gin I wanted (seen on the bar). The waiter brought me a gimlet with a straw and was quite offended when I explained that wasn't THere are too many good restaurants within a stone's throw of the hotel that have great drinks and a great attitude.  My friend brought me here to welcome me to Kosovo. What a disappointment!\"\n",
    "    ],\n",
    "    'sentiment':['Positive', \n",
    "                 'Positive', \n",
    "                 'Positive', \n",
    "                 'Positive', \n",
    "                 'Positive', \n",
    "                 'Positive', \n",
    "                 'Positive', \n",
    "                 'Positive', \n",
    "                 'Positive', \n",
    "                 'Positive', \n",
    "                 'Neutral',\n",
    "                 'Neutral',\n",
    "                 'Neutral',\n",
    "                 'Neutral',\n",
    "                 'Neutral',\n",
    "                 'Neutral',\n",
    "                 'Neutral',\n",
    "                 'Neutral',\n",
    "                 'Neutral',\n",
    "                 'Neutral',\n",
    "                 'Negative',\n",
    "                 'Negative',\n",
    "                 'Negative',\n",
    "                 'Negative',\n",
    "                 'Negative',\n",
    "                 'Negative',\n",
    "                 'Negative',\n",
    "                 'Negative',\n",
    "                 'Negative',\n",
    "                 'Negative'\n",
    "                ]\n",
    "}\n",
    "\n",
    "df = pd.DataFrame(data) "
   ]
  },
  {
   "cell_type": "code",
   "execution_count": 3,
   "id": "ecf74e23",
   "metadata": {},
   "outputs": [
    {
     "data": {
      "text/html": [
       "<div>\n",
       "<style scoped>\n",
       "    .dataframe tbody tr th:only-of-type {\n",
       "        vertical-align: middle;\n",
       "    }\n",
       "\n",
       "    .dataframe tbody tr th {\n",
       "        vertical-align: top;\n",
       "    }\n",
       "\n",
       "    .dataframe thead th {\n",
       "        text-align: right;\n",
       "    }\n",
       "</style>\n",
       "<table border=\"1\" class=\"dataframe\">\n",
       "  <thead>\n",
       "    <tr style=\"text-align: right;\">\n",
       "      <th></th>\n",
       "      <th>reviews</th>\n",
       "      <th>sentiment</th>\n",
       "    </tr>\n",
       "  </thead>\n",
       "  <tbody>\n",
       "    <tr>\n",
       "      <th>0</th>\n",
       "      <td>Staying at Swiss Diamond Hotel was amazing. Ev...</td>\n",
       "      <td>Positive</td>\n",
       "    </tr>\n",
       "    <tr>\n",
       "      <th>1</th>\n",
       "      <td>Very nice place in the center of Pristina, it ...</td>\n",
       "      <td>Positive</td>\n",
       "    </tr>\n",
       "    <tr>\n",
       "      <th>2</th>\n",
       "      <td>Swiss Diamond is located in the heart of Prist...</td>\n",
       "      <td>Positive</td>\n",
       "    </tr>\n",
       "    <tr>\n",
       "      <th>3</th>\n",
       "      <td>Better than expected. Nice and comfortable roo...</td>\n",
       "      <td>Positive</td>\n",
       "    </tr>\n",
       "    <tr>\n",
       "      <th>4</th>\n",
       "      <td>What a beautiful and superb 5 star hotel in ce...</td>\n",
       "      <td>Positive</td>\n",
       "    </tr>\n",
       "  </tbody>\n",
       "</table>\n",
       "</div>"
      ],
      "text/plain": [
       "                                             reviews sentiment\n",
       "0  Staying at Swiss Diamond Hotel was amazing. Ev...  Positive\n",
       "1  Very nice place in the center of Pristina, it ...  Positive\n",
       "2  Swiss Diamond is located in the heart of Prist...  Positive\n",
       "3  Better than expected. Nice and comfortable roo...  Positive\n",
       "4  What a beautiful and superb 5 star hotel in ce...  Positive"
      ]
     },
     "execution_count": 3,
     "metadata": {},
     "output_type": "execute_result"
    }
   ],
   "source": [
    "df.head()"
   ]
  },
  {
   "cell_type": "code",
   "execution_count": 4,
   "id": "563556e8",
   "metadata": {},
   "outputs": [],
   "source": [
    "\"\"\"\n",
    "Ne vazhdim kam bere shuffle te datasetit.\n",
    "Arsyeja pse e kam bere kete eshte per shkak te struktures se datasetit,\n",
    "ku te gjitha komentet pozitive, negative dhe neutrale ishin te njepasnjeshme.\n",
    "Per te mundesuar gjeneralizimin e modelit, eshte bere shuffle i datasetit.\n",
    "\"\"\"\n",
    "\n",
    "df = df.sample(frac=1, random_state=42).reset_index(drop=True)"
   ]
  },
  {
   "cell_type": "code",
   "execution_count": 5,
   "id": "617f373b",
   "metadata": {},
   "outputs": [],
   "source": [
    "#Shnderrimi i kolones sentiment ne kolone me vlera kategorike\n",
    "\n",
    "df['sentiment'] = df['sentiment'].astype('category')"
   ]
  },
  {
   "cell_type": "code",
   "execution_count": 6,
   "id": "676e4fbc",
   "metadata": {},
   "outputs": [
    {
     "data": {
      "image/png": "[encoded data removed]",
      "text/plain": [
       "<Figure size 800x500 with 1 Axes>"
      ]
     },
     "metadata": {},
     "output_type": "display_data"
    }
   ],
   "source": [
    "#Paraqitja vizuale e reviews ne dataset sipas sentimentit. Numer i barabarte te komenteve per secilin sentiment (10)\n",
    "\n",
    "ax = df['sentiment'].value_counts().sort_index().plot(kind='bar', title='Reviews sorted by sentiment', figsize=(8,5))\n",
    "ax.set_xlabel('Sentiment')\n",
    "plt.show()"
   ]
  },
  {
   "cell_type": "code",
   "execution_count": 7,
   "id": "d844c20d",
   "metadata": {},
   "outputs": [
    {
     "name": "stdout",
     "output_type": "stream",
     "text": [
      "We stayed this week in what could be a very nice old world European hotel, however sadly the Swiss Diamond is missing customer engagement and lack that import human touch. Rooms were small, clean but ok. Food and beverage generally good, albeit a little old fashioned. Staff were cold, never smiling and impersonal. Management, from the top, seemed disengaged and more eager to be enjoying their breakfast than checking I guest satisfaction. Hotel transfer in departure was late, leaving a bad final impression. Sadly it all could have been so much better and a real experience if the management and staff would have just tried.\n",
      "Neutral\n"
     ]
    }
   ],
   "source": [
    "example = df['reviews'][13]\n",
    "sent = df['sentiment'][13]\n",
    "print(example)\n",
    "print(sent)"
   ]
  },
  {
   "cell_type": "code",
   "execution_count": 8,
   "id": "b4e770f2",
   "metadata": {},
   "outputs": [
    {
     "data": {
      "text/plain": [
       "Index(['reviews', 'sentiment'], dtype='object')"
      ]
     },
     "execution_count": 8,
     "metadata": {},
     "output_type": "execute_result"
    }
   ],
   "source": [
    "df.columns"
   ]
  },
  {
   "cell_type": "code",
   "execution_count": 9,
   "id": "7ce2bc59",
   "metadata": {},
   "outputs": [
    {
     "name": "stderr",
     "output_type": "stream",
     "text": [
      "[nltk_data] Downloading package stopwords to\n",
      "[nltk_data]     C:\\Users\\redon\\AppData\\Roaming\\nltk_data...\n",
      "[nltk_data]   Package stopwords is already up-to-date!\n"
     ]
    }
   ],
   "source": [
    "nltk.download('stopwords')\n",
    "from nltk.corpus import stopwords\n",
    "\n",
    "stopword_en = set(stopwords.words('english'))\n",
    "\n",
    "nlp = spacy.load(\"en_core_web_sm\", disable=[\"ner\",\"parser\"])"
   ]
  },
  {
   "cell_type": "code",
   "execution_count": 10,
   "id": "90ea2a41",
   "metadata": {},
   "outputs": [],
   "source": [
    "\"\"\"\n",
    "Funksioni per lematizimin e tekstit.\n",
    "Nevojitet si paraprocesim i tekstit per te lehtesuar punen e modelit.\n",
    "Mban vetem fjalet prej te cilave mund te nxjerre kuptim.\n",
    "\"\"\"\n",
    "\n",
    "def lemmatize_text(text: str) -> str:\n",
    "    doc = nlp(text)\n",
    "    lemmas = [\n",
    "        tok.lemma_ for tok in doc\n",
    "        if tok.is_alpha\n",
    "        and not tok.is_stop\n",
    "        and tok.pos_ in {'NOUN', 'VERB', 'ADJ', 'ADV'}\n",
    "    ]\n",
    "    return \" \".join(lemmas)"
   ]
  },
  {
   "cell_type": "code",
   "execution_count": 11,
   "id": "c0a282e0-ce9c-4ffb-a3b3-b59595d86f12",
   "metadata": {},
   "outputs": [],
   "source": [
    "lemma_text = [lemmatize_text(t) for t in df['reviews']]"
   ]
  },
  {
   "cell_type": "markdown",
   "id": "3df15f4d-397c-4602-8e98-e540b9bb11b0",
   "metadata": {},
   "source": [
    "Train test split i datasetit per vlerat X - teksti i lematizuar nga lista e reviews te marra nga dataseti, dhe y per vlerat kategorike te kolones sentiment te datasetit.\n",
    "\n",
    "Per shkak te datasetit te vogel (vetem 30 rreshta) ndarja eshte bere e tille qe 30% e te dhenave te behen per testim ne menyre qe testimi te kete nje numer te arsyeshem te testeve per te vleresuar performancen e tij.\n",
    "\n",
    "Eshte perdorur pipeline per te mundesuar paraprocesimin e te dhenave ne dataset permes tfidf vectorizer, derisa modeli i perzgjedhur eshte Naive Bayes.\n",
    "\n",
    "Arsyeja pse kam perzgjedhur Logistic Regression te kombinuar me TF-IDF eshte per shkak te datasetit te vogel, te krijohet nje model i thjeshte i cili mund te gjeneralizoje. Nuk kam perdorur BERT sepse nuk funksionon mire ne datasete te vogla, ngase i nevojitet kontekst dhe te dhena per te arritur rezultate. Kombinimi i Logistic Regression me TF-IDF eshte mjaft i mire prandaj nuk kam perzgjedhur modele tjera per te analizuar sentimentin.\n",
    "\n",
    "Zgjedhja e hiperparametrave eshte bere pas testimit me GridSearchCV dhe pastaj futja e tyre si hiperparametra ne pipeline.\n",
    "Pas testimit me GridSearchCV jane determinuar qe solver te jete liblinear, penalty=l2 dhe C=10"
   ]
  },
  {
   "cell_type": "code",
   "execution_count": 12,
   "id": "4213854b-f80e-43b6-9afb-5c9d4d4b39a4",
   "metadata": {
    "scrolled": true
   },
   "outputs": [],
   "source": [
    "X = lemma_text\n",
    "y = df['sentiment']\n",
    "\n",
    "X_train, X_test, y_train, y_test = train_test_split(X, y, test_size=0.3, random_state=42)\n",
    "\n",
    "pipeline = Pipeline([\n",
    "    ('tfidf', TfidfVectorizer(ngram_range=(1, 1), max_features=5000, stop_words='english')),\n",
    "    ('clf', LogisticRegression(solver='liblinear', penalty='l2', C=10))\n",
    "])"
   ]
  },
  {
   "cell_type": "markdown",
   "id": "308d323a-e313-4857-a601-a05c4805cdf2",
   "metadata": {},
   "source": [
    "Vleresimi i modelit na tregon se modeli nuk ka performance mjaft te mire.\n",
    "Gjeneralizim me nje dataset te vogel eshte mjaft i veshtire ngase modeli nuk ka mjaftueshem te dhena per te arritur parashikime te mira.\n",
    "Edhe me ndarje prej 30% te datasetit per testim, modeli prap ka vetem 9 komente ne baze te te cilave bejme vleresimin.\n",
    "Kjo e ben te veshtire edhe trajnimin edhe testimin e modelit. \n",
    "\n",
    "Mirepo, me ato qe i ka ka arritur rezultate te mira ne komente negative:\n",
    "F1-score: 0.4, precision: 0.5, recall: 0.33\n",
    "\n",
    "Rezultate te mira ne komente neutrale:\n",
    "F1-score: 0.57, precision: 0.5 dhe recall: 0.67\n",
    "\n",
    "Rezultate me te dobeta ne komente pozitive:\n",
    "F1-score: 0.33, precision: 0.33 dhe recall: 0.33"
   ]
  },
  {
   "cell_type": "code",
   "execution_count": 13,
   "id": "2e248a25-c4ac-4886-abf4-7008fdea636d",
   "metadata": {},
   "outputs": [
    {
     "name": "stdout",
     "output_type": "stream",
     "text": [
      "              precision    recall  f1-score   support\n",
      "\n",
      "    Negative       0.50      0.33      0.40         3\n",
      "     Neutral       0.50      0.67      0.57         3\n",
      "    Positive       0.33      0.33      0.33         3\n",
      "\n",
      "    accuracy                           0.44         9\n",
      "   macro avg       0.44      0.44      0.43         9\n",
      "weighted avg       0.44      0.44      0.43         9\n",
      "\n"
     ]
    }
   ],
   "source": [
    "pipeline.fit(X_train, y_train)\n",
    "\n",
    "y_pred = pipeline.predict(X_test)\n",
    "\n",
    "print(classification_report(y_test, y_pred))"
   ]
  },
  {
   "cell_type": "markdown",
   "id": "c6ab458d-cc68-4a2b-b391-78ccb64a98f8",
   "metadata": {},
   "source": [
    "Funksion per te testuar modelin me komente te marra nga inputi i perdoruesit"
   ]
  },
  {
   "cell_type": "code",
   "execution_count": 14,
   "id": "9d6b0370-bd4e-4d63-9567-15e00b344e28",
   "metadata": {},
   "outputs": [],
   "source": [
    "def predict_comment(text):\n",
    "    pred = pipeline.predict([text])[0]\n",
    "    print(f\"Predicted sentiment: {pred}\")\n",
    "    return pred"
   ]
  },
  {
   "cell_type": "markdown",
   "id": "7feafecc-6a5d-4a06-aa81-837955a9510f",
   "metadata": {},
   "source": [
    "Shtyp run ne 'cell' ne vazhdim dhe provo modelin me komente personale."
   ]
  },
  {
   "cell_type": "code",
   "execution_count": 15,
   "id": "713b925d-d691-4e1e-b800-1225b398e8ce",
   "metadata": {},
   "outputs": [
    {
     "name": "stdout",
     "output_type": "stream",
     "text": [
      "Enter a comment to get sentiment... This place was great.\n"
     ]
    },
    {
     "name": "stdout",
     "output_type": "stream",
     "text": [
      "Predicted sentiment: Positive\n"
     ]
    },
    {
     "data": {
      "text/plain": [
       "'Positive'"
      ]
     },
     "execution_count": 15,
     "metadata": {},
     "output_type": "execute_result"
    }
   ],
   "source": [
    "comment = input(\"Enter a comment to get sentiment...\")\n",
    "predict_comment(comment)"
   ]
  }
 ],
 "metadata": {
  "kernelspec": {
   "display_name": "Python 3 (ipykernel)",
   "language": "python",
   "name": "python3"
  },
  "language_info": {
   "codemirror_mode": {
    "name": "ipython",
    "version": 3
   },
   "file_extension": ".py",
   "mimetype": "text/x-python",
   "name": "python",
   "nbconvert_exporter": "python",
   "pygments_lexer": "ipython3",
   "version": "3.13.2"
  }
 },
 "nbformat": 4,
 "nbformat_minor": 5
}
